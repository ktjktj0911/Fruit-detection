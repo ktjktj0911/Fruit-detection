{
 "cells": [
  {
   "cell_type": "code",
   "execution_count": 1,
   "metadata": {},
   "outputs": [
    {
     "name": "stdout",
     "output_type": "stream",
     "text": [
      "Collecting opencv-python\n",
      "  Using cached opencv_python-4.5.1.48-cp37-cp37m-win_amd64.whl (34.9 MB)\n",
      "Requirement already satisfied: numpy>=1.14.5 in c:\\users\\ktjkt\\anaconda3\\lib\\site-packages (from opencv-python) (1.19.5)\n",
      "Installing collected packages: opencv-python\n",
      "Successfully installed opencv-python-4.5.1.48\n"
     ]
    }
   ],
   "source": [
    "!pip install opencv-python"
   ]
  },
  {
   "cell_type": "code",
   "execution_count": 2,
   "metadata": {},
   "outputs": [],
   "source": [
    "import cv2\n",
    "import os\n",
    "import numpy as np"
   ]
  },
  {
   "cell_type": "code",
   "execution_count": 3,
   "metadata": {},
   "outputs": [],
   "source": [
    "def getOutputsNames(net):\n",
    "    layersNames = net.getLayerNames()\n",
    "    return [layersNames[i[0] -1] for i in net.getUnconnectedOutLayers()]"
   ]
  },
  {
   "cell_type": "code",
   "execution_count": 4,
   "metadata": {},
   "outputs": [],
   "source": [
    "def postprocess(img, outs, classIds, boxes):\n",
    "    confidences = []\n",
    "    for i in range(len(outs)):\n",
    "        data = outs[i]\n",
    "        for j in range(len(data)):\n",
    "            scores = outs[i][j][5:]\n",
    "            _, confidence, _, classIdPoint = cv2.minMaxLoc(scores)\n",
    "            if (confidence > CONFTHRESHOLD):\n",
    "                centerX = int(data[j][0] * len(img[0]))\n",
    "                centerY = int(data[j][1] * len(img))\n",
    "                width = int(data[j][2] * len(img[0]))\n",
    "                height = int(data[j][3] * len(img))\n",
    "                left = int(centerX - width/2)\n",
    "                top = int(centerY - height/2)\n",
    "                \n",
    "                classIds.append(classIdPoint[1])\n",
    "                confidences.append(confidence)\n",
    "                boxes.append([left, top, width, height])\n",
    "    indices = cv2.dnn.NMSBoxes(boxes, confidences, CONFTHRESHOLD, NMSTHRESHOLD)\n",
    "    return indices\n",
    "            "
   ]
  },
  {
   "cell_type": "code",
   "execution_count": 5,
   "metadata": {},
   "outputs": [
    {
     "name": "stdout",
     "output_type": "stream",
     "text": [
      "['Apple', 'Peach', 'Pomegranate', 'Lemon', 'Mango', 'Orange', 'pear', 'Strawberry', 'Tomato', 'Watermelon']\n"
     ]
    }
   ],
   "source": [
    "CONFTHRESHOLD = 0.5\n",
    "NMSTHRESHOLD = 0.4\n",
    "INPWIDTH = 416\n",
    "INPHEIGHT = 416\n",
    "classes = []\n",
    "f = open(\"obj.txt\", \"r\")\n",
    "while (1):\n",
    "    line = f.readline()\n",
    "    if not line:\n",
    "        break;\n",
    "    classes.append(line[:-1])\n",
    "print(classes)\n",
    "    \n",
    "directory = \"original\"\n",
    "IMGLIST = []\n",
    "for root,dirs,files in os.walk(directory):\n",
    "    for file in files:\n",
    "        if(file[-3:] != 'txt'):\n",
    "            IMGLIST.append(os.path.join(root,file))"
   ]
  },
  {
   "cell_type": "code",
   "execution_count": 6,
   "metadata": {},
   "outputs": [
    {
     "name": "stdout",
     "output_type": "stream",
     "text": [
      "[WinError 183] Cannot create a file when that file already exists: 'crop\\\\Apple'\n",
      "[WinError 183] Cannot create a file when that file already exists: 'crop\\\\Peach'\n",
      "[WinError 183] Cannot create a file when that file already exists: 'crop\\\\Pomegranate'\n",
      "[WinError 183] Cannot create a file when that file already exists: 'crop\\\\Lemon'\n",
      "[WinError 183] Cannot create a file when that file already exists: 'crop\\\\Mango'\n",
      "[WinError 183] Cannot create a file when that file already exists: 'crop\\\\Orange'\n",
      "[WinError 183] Cannot create a file when that file already exists: 'crop\\\\pear'\n",
      "[WinError 183] Cannot create a file when that file already exists: 'crop\\\\Strawberry'\n",
      "[WinError 183] Cannot create a file when that file already exists: 'crop\\\\Tomato'\n",
      "[WinError 183] Cannot create a file when that file already exists: 'crop\\\\Watermelon'\n"
     ]
    }
   ],
   "source": [
    "for i in range(len(classes)):\n",
    "    try: \n",
    "        os.mkdir(os.path.join(\"crop\",classes[i])) \n",
    "    except OSError as error: \n",
    "        print(error)   "
   ]
  },
  {
   "cell_type": "code",
   "execution_count": 7,
   "metadata": {},
   "outputs": [],
   "source": [
    "net = cv2.dnn.readNet(\"yolo-fastest_last.weights\", \"yolo-fastest.cfg\")\n",
    "net.setPreferableBackend(cv2.dnn.DNN_BACKEND_CUDA)\n",
    "net.setPreferableTarget(cv2.dnn.DNN_TARGET_CUDA_FP16)"
   ]
  },
  {
   "cell_type": "code",
   "execution_count": 8,
   "metadata": {
    "scrolled": true
   },
   "outputs": [],
   "source": [
    "x = 0\n",
    "for i in range(len(IMGLIST)):\n",
    "    img = cv2.imread(IMGLIST[i])\n",
    "    blob = cv2.dnn.blobFromImage(img, 1/255.0, (INPWIDTH, INPHEIGHT), (0,0,0), True, False)\n",
    "    net.setInput(blob)\n",
    "\n",
    "    outs = net.forward(getOutputsNames(net))\n",
    "\n",
    "    boxes = []\n",
    "    classIds = []\n",
    "    indices = postprocess(img, outs, classIds, boxes)\n",
    "    print(\"wtf\", indices)\n",
    "    for j in range(len(indices)):\n",
    "        x += 1\n",
    "        top = max(boxes[np.squeeze(indices[j])][1],0)\n",
    "        bottom = min(boxes[np.squeeze(indices[j])][1]+boxes[np.squeeze(indices[j])][3], len(img))\n",
    "        left = max(boxes[np.squeeze(indices[j])][0],0)\n",
    "        right = min(boxes[np.squeeze(indices[j])][0]+boxes[np.squeeze(indices[j])][2], len(img[0]))\n",
    "        crop = img[top:bottom, left:right]\n",
    "        cv2.imwrite(\"crop/\"+ classes[classIds[np.squeeze(indices[j])]] + \"/\"+str(x)+\".jpg\", crop)"
   ]
  },
  {
   "cell_type": "code",
   "execution_count": 9,
   "metadata": {},
   "outputs": [
    {
     "ename": "NameError",
     "evalue": "name 'cv' is not defined",
     "output_type": "error",
     "traceback": [
      "\u001b[1;31m---------------------------------------------------------------------------\u001b[0m",
      "\u001b[1;31mNameError\u001b[0m                                 Traceback (most recent call last)",
      "\u001b[1;32m<ipython-input-9-aa04faaea1ca>\u001b[0m in \u001b[0;36m<module>\u001b[1;34m\u001b[0m\n\u001b[0;32m      1\u001b[0m \u001b[1;32mwhile\u001b[0m \u001b[0mcv2\u001b[0m\u001b[1;33m.\u001b[0m\u001b[0mwaitKey\u001b[0m\u001b[1;33m(\u001b[0m\u001b[1;36m10\u001b[0m\u001b[1;33m)\u001b[0m \u001b[1;33m<\u001b[0m \u001b[1;36m1\u001b[0m\u001b[1;33m:\u001b[0m\u001b[1;33m\u001b[0m\u001b[1;33m\u001b[0m\u001b[0m\n\u001b[1;32m----> 2\u001b[1;33m     \u001b[1;33m(\u001b[0m\u001b[0mgrabbed\u001b[0m\u001b[1;33m,\u001b[0m \u001b[0mframe\u001b[0m\u001b[1;33m)\u001b[0m \u001b[1;33m=\u001b[0m \u001b[0mcv\u001b[0m\u001b[1;33m.\u001b[0m\u001b[0mread\u001b[0m\u001b[1;33m(\u001b[0m\u001b[1;33m)\u001b[0m\u001b[1;33m\u001b[0m\u001b[1;33m\u001b[0m\u001b[0m\n\u001b[0m\u001b[0;32m      3\u001b[0m     \u001b[1;32mif\u001b[0m \u001b[1;32mnot\u001b[0m \u001b[0mgrabbed\u001b[0m\u001b[1;33m:\u001b[0m\u001b[1;33m\u001b[0m\u001b[1;33m\u001b[0m\u001b[0m\n\u001b[0;32m      4\u001b[0m         \u001b[0mexit\u001b[0m\u001b[1;33m(\u001b[0m\u001b[1;33m)\u001b[0m\u001b[1;33m\u001b[0m\u001b[1;33m\u001b[0m\u001b[0m\n\u001b[0;32m      5\u001b[0m \u001b[1;33m\u001b[0m\u001b[0m\n",
      "\u001b[1;31mNameError\u001b[0m: name 'cv' is not defined"
     ]
    }
   ],
   "source": [
    "while cv2.waitKey(10) < 1:\n",
    "    (grabbed, frame) = cv.read()\n",
    "    if not grabbed:\n",
    "        exit()\n",
    "\n",
    "    start = time.time()\n",
    "    classes, scores, boxes = model.detect(frame, CONFIDENCE_THRESHOLD, NMS_THRESHOLD)\n",
    "    end = time.time()\n",
    "\n",
    "    start_drawing = time.time()\n",
    "    for (classid, score, box) in zip(classes, scores, boxes):\n",
    "        color = COLORS[int(classid) % len(COLORS)]\n",
    "        label = \"%s : %f\" % (class_names[classid[0]], score)\n",
    "        cv2.rectangle(frame, box, color, 2)\n",
    "        cv2.putText(frame, label, (box[0], box[1] - 10), cv2.FONT_HERSHEY_SIMPLEX, 0.5, color, 2)\n",
    "    end_drawing = time.time()\n",
    "    \n",
    "    fps_label = \"FPS: %.2f (excluding drawing time of %.2fms)\" % (1 / (end - start), (end_drawing - start_drawing) * 1000)\n",
    "    cv2.putText(frame, fps_label, (0, 25), cv2.FONT_HERSHEY_SIMPLEX, 1, (0, 0, 0), 2)\n",
    "    cv2.imshow(\"detections\", frame)"
   ]
  },
  {
   "cell_type": "code",
   "execution_count": null,
   "metadata": {},
   "outputs": [],
   "source": []
  }
 ],
 "metadata": {
  "kernelspec": {
   "display_name": "Python 3",
   "language": "python",
   "name": "python3"
  },
  "language_info": {
   "codemirror_mode": {
    "name": "ipython",
    "version": 3
   },
   "file_extension": ".py",
   "mimetype": "text/x-python",
   "name": "python",
   "nbconvert_exporter": "python",
   "pygments_lexer": "ipython3",
   "version": "3.7.6"
  }
 },
 "nbformat": 4,
 "nbformat_minor": 4
}
